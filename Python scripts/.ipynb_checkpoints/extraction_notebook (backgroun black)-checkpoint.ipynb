{
 "cells": [
  {
   "cell_type": "code",
   "execution_count": 10,
   "id": "89996ccc",
   "metadata": {},
   "outputs": [],
   "source": [
    "import cv2\n",
    "import numpy as np\n",
    "np.set_printoptions(threshold=np.inf)"
   ]
  },
  {
   "cell_type": "code",
   "execution_count": 11,
   "id": "da4367e9",
   "metadata": {},
   "outputs": [],
   "source": [
    "## (1) Read\n",
    "img = cv2.imread(\"trial.png\")\n",
    "gray = cv2.cvtColor(img, cv2.COLOR_BGR2GRAY)\n",
    "#gray"
   ]
  },
  {
   "cell_type": "code",
   "execution_count": 12,
   "id": "f884578c",
   "metadata": {
    "scrolled": true
   },
   "outputs": [],
   "source": [
    "## (2) Threshold\n",
    "th, threshed = cv2.threshold(gray, 30, 255, cv2.THRESH_BINARY_INV|cv2.THRESH_OTSU)\n",
    "#th\n",
    "#threshed"
   ]
  },
  {
   "cell_type": "code",
   "execution_count": 13,
   "id": "5e999a02",
   "metadata": {},
   "outputs": [],
   "source": [
    "## (3) Find the min-area contour\n",
    "contours, hierarchy = cv2.findContours(threshed, cv2.RETR_TREE, cv2.CHAIN_APPROX_SIMPLE)\n",
    "contours = sorted(contours, key=cv2.contourArea)"
   ]
  },
  {
   "cell_type": "code",
   "execution_count": 14,
   "id": "49f41413",
   "metadata": {},
   "outputs": [],
   "source": [
    "#hierarchy"
   ]
  },
  {
   "cell_type": "code",
   "execution_count": 15,
   "id": "04f46c3b",
   "metadata": {
    "scrolled": false
   },
   "outputs": [],
   "source": [
    "#contours"
   ]
  },
  {
   "cell_type": "code",
   "execution_count": 19,
   "id": "30220e7b",
   "metadata": {},
   "outputs": [
    {
     "data": {
      "text/plain": [
       "(697, 911, 3)"
      ]
     },
     "execution_count": 19,
     "metadata": {},
     "output_type": "execute_result"
    }
   ],
   "source": [
    "#img.shape"
   ]
  },
  {
   "cell_type": "code",
   "execution_count": 17,
   "id": "88ebc175",
   "metadata": {},
   "outputs": [],
   "source": [
    "for i, cnt in enumerate(contours):\n",
    "    if cv2.contourArea(cnt) > 20:\n",
    "        img_contours = np.zeros(img.shape)\n",
    "        \n",
    "        # (4) draw the contours on the empty image\n",
    "        cv2.drawContours(img_contours, cnt, -1, (0, 255, 0), 3)\n",
    "        cv2.imshow(str(cv2.contourArea(cnt)), img_contours)\n",
    "        \n",
    "        ## (5) Create mask and do bitwise-op\n",
    "        mask = np.zeros(img.shape[:2],np.uint8)\n",
    "        cv2.drawContours(mask, [cnt],-1, 255, -1)\n",
    "        dst = cv2.bitwise_and(img, img, mask=mask)\n",
    "        \n",
    "        ## (6) Choose the background color (black as default) and save it\n",
    "        cv2.imwrite(\"dst_black_\"+str(i)+\".png\", dst)"
   ]
  },
  {
   "cell_type": "code",
   "execution_count": null,
   "id": "93f068b2",
   "metadata": {},
   "outputs": [],
   "source": []
  },
  {
   "cell_type": "code",
   "execution_count": null,
   "id": "baf0175d",
   "metadata": {},
   "outputs": [],
   "source": []
  },
  {
   "cell_type": "code",
   "execution_count": null,
   "id": "f702d89f",
   "metadata": {},
   "outputs": [],
   "source": []
  },
  {
   "cell_type": "code",
   "execution_count": null,
   "id": "ddf02b62",
   "metadata": {},
   "outputs": [],
   "source": []
  },
  {
   "cell_type": "code",
   "execution_count": null,
   "id": "37c2c43f",
   "metadata": {},
   "outputs": [],
   "source": []
  },
  {
   "cell_type": "code",
   "execution_count": null,
   "id": "6e8c7e94",
   "metadata": {},
   "outputs": [],
   "source": []
  },
  {
   "cell_type": "code",
   "execution_count": null,
   "id": "870c8b1f",
   "metadata": {},
   "outputs": [],
   "source": []
  },
  {
   "cell_type": "code",
   "execution_count": null,
   "id": "f4dd8e98",
   "metadata": {},
   "outputs": [],
   "source": []
  },
  {
   "cell_type": "code",
   "execution_count": null,
   "id": "748e98d1",
   "metadata": {},
   "outputs": [],
   "source": []
  },
  {
   "cell_type": "code",
   "execution_count": null,
   "id": "f74b2d73",
   "metadata": {},
   "outputs": [],
   "source": []
  }
 ],
 "metadata": {
  "kernelspec": {
   "display_name": "Python 3 (ipykernel)",
   "language": "python",
   "name": "python3"
  },
  "language_info": {
   "codemirror_mode": {
    "name": "ipython",
    "version": 3
   },
   "file_extension": ".py",
   "mimetype": "text/x-python",
   "name": "python",
   "nbconvert_exporter": "python",
   "pygments_lexer": "ipython3",
   "version": "3.9.9"
  }
 },
 "nbformat": 4,
 "nbformat_minor": 5
}
