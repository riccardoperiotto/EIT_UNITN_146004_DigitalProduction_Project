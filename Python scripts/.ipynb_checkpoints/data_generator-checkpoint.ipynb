{
 "cells": [
  {
   "cell_type": "code",
   "execution_count": 11,
   "id": "49f41413",
   "metadata": {},
   "outputs": [],
   "source": [
    "import csv\n",
    "import random\n",
    "import math\n",
    "import matplotlib.pyplot as plt"
   ]
  },
  {
   "cell_type": "code",
   "execution_count": 12,
   "id": "04f46c3b",
   "metadata": {
    "scrolled": false
   },
   "outputs": [],
   "source": [
    "# open the file in the write mode\n",
    "file = open('input_3.csv', 'w')"
   ]
  },
  {
   "cell_type": "code",
   "execution_count": 13,
   "id": "d86b8c48",
   "metadata": {},
   "outputs": [],
   "source": [
    "columns=[\"ID_order\", \"Release_time(sec)\", \"Order_provenience\", \"Order_dimension\"]\n",
    "order_proveniences = [\"car\", \"person\"]\n",
    "menu_types = [\"meat\", \"veggy\", \"chicken\"]"
   ]
  },
  {
   "cell_type": "code",
   "execution_count": 14,
   "id": "42850a41",
   "metadata": {},
   "outputs": [],
   "source": [
    "current_time = 0\n",
    "n_order_target = 500\n",
    "pmf_arrival_rate=[0.012,0.012,0.009,0.013,0.016,0.019,0.023,0.019,0.014,0.018,0.027,0.049,0.075,0.084,0.067,0.043,0.043,0.065,0.084,0.094,0.086,0.065,0.037,0.023]\n",
    "averages = [i * n_order_target for i in pmf_arrival_rate]\n",
    "\n",
    "arrivals=[0]*24"
   ]
  },
  {
   "cell_type": "code",
   "execution_count": 15,
   "id": "77ba9970",
   "metadata": {},
   "outputs": [
    {
     "data": {
      "text/plain": [
       "64"
      ]
     },
     "execution_count": 15,
     "metadata": {},
     "output_type": "execute_result"
    }
   ],
   "source": [
    "file.write(\";\".join(columns)+\";;;\\n\")"
   ]
  },
  {
   "cell_type": "code",
   "execution_count": 16,
   "id": "88ebc175",
   "metadata": {},
   "outputs": [],
   "source": [
    "i=0\n",
    "index = 0\n",
    "while index < 24:\n",
    "    i=i+1\n",
    "    order_id = 1000+ i\n",
    "    index=int(current_time//(60*60))\n",
    "    if current_time < 24*60*60:  \n",
    "        next_arrival = random.expovariate(averages[index]/3600)\n",
    "        # next_arrival = random.expovariate(47/3600) try the high demand\n",
    "        current_time = current_time + next_arrival\n",
    "        #print(str(next_arrival)+\" e current \"+str(current_time))\n",
    "        arrivals[index]=arrivals[index]+1\n",
    "        order_provenience = random.choice(order_proveniences)\n",
    "        order_dim = random.randint(1,5)\n",
    "        file.write(str(order_id)+\";\"+str(int(current_time))+\";\"+str(order_provenience)+\";\"+str(order_dim)+\"\\n\")           "
   ]
  },
  {
   "cell_type": "code",
   "execution_count": 17,
   "id": "93f068b2",
   "metadata": {},
   "outputs": [],
   "source": [
    "file.close()\n"
   ]
  },
  {
   "cell_type": "code",
   "execution_count": 18,
   "id": "baf0175d",
   "metadata": {},
   "outputs": [
    {
     "data": {
      "text/plain": [
       "[4,\n",
       " 4,\n",
       " 5,\n",
       " 6,\n",
       " 5,\n",
       " 5,\n",
       " 10,\n",
       " 12,\n",
       " 6,\n",
       " 12,\n",
       " 9,\n",
       " 25,\n",
       " 40,\n",
       " 36,\n",
       " 31,\n",
       " 19,\n",
       " 16,\n",
       " 46,\n",
       " 38,\n",
       " 57,\n",
       " 47,\n",
       " 34,\n",
       " 17,\n",
       " 15]"
      ]
     },
     "execution_count": 18,
     "metadata": {},
     "output_type": "execute_result"
    }
   ],
   "source": [
    "arrivals\n"
   ]
  },
  {
   "cell_type": "code",
   "execution_count": 19,
   "id": "f702d89f",
   "metadata": {},
   "outputs": [
    {
     "data": {
      "text/plain": [
       "<BarContainer object of 24 artists>"
      ]
     },
     "execution_count": 19,
     "metadata": {},
     "output_type": "execute_result"
    },
    {
     "data": {
      "image/png": "[encoded data removed]",
      "text/plain": [
       "<Figure size 432x288 with 1 Axes>"
      ]
     },
     "metadata": {
      "needs_background": "light"
     },
     "output_type": "display_data"
    }
   ],
   "source": [
    "plt.bar(range(0,24),arrivals)"
   ]
  },
  {
   "cell_type": "code",
   "execution_count": null,
   "id": "ddf02b62",
   "metadata": {},
   "outputs": [],
   "source": []
  },
  {
   "cell_type": "code",
   "execution_count": null,
   "id": "37c2c43f",
   "metadata": {},
   "outputs": [],
   "source": []
  },
  {
   "cell_type": "code",
   "execution_count": null,
   "id": "6e8c7e94",
   "metadata": {},
   "outputs": [],
   "source": []
  },
  {
   "cell_type": "code",
   "execution_count": null,
   "id": "870c8b1f",
   "metadata": {},
   "outputs": [],
   "source": []
  },
  {
   "cell_type": "code",
   "execution_count": null,
   "id": "f4dd8e98",
   "metadata": {},
   "outputs": [],
   "source": []
  },
  {
   "cell_type": "code",
   "execution_count": null,
   "id": "748e98d1",
   "metadata": {},
   "outputs": [],
   "source": []
  },
  {
   "cell_type": "code",
   "execution_count": null,
   "id": "f74b2d73",
   "metadata": {},
   "outputs": [],
   "source": []
  },
  {
   "cell_type": "code",
   "execution_count": null,
   "id": "874ed073",
   "metadata": {},
   "outputs": [],
   "source": []
  },
  {
   "cell_type": "code",
   "execution_count": null,
   "id": "9ece2027",
   "metadata": {},
   "outputs": [],
   "source": []
  },
  {
   "cell_type": "code",
   "execution_count": null,
   "id": "49bc9018",
   "metadata": {},
   "outputs": [],
   "source": []
  }
 ],
 "metadata": {
  "kernelspec": {
   "display_name": "Python 3 (ipykernel)",
   "language": "python",
   "name": "python3"
  },
  "language_info": {
   "codemirror_mode": {
    "name": "ipython",
    "version": 3
   },
   "file_extension": ".py",
   "mimetype": "text/x-python",
   "name": "python",
   "nbconvert_exporter": "python",
   "pygments_lexer": "ipython3",
   "version": "3.9.10"
  }
 },
 "nbformat": 4,
 "nbformat_minor": 5
}
