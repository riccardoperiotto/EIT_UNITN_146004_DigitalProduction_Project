{
 "cells": [
  {
   "cell_type": "code",
   "execution_count": 17,
   "id": "f7ce9711",
   "metadata": {},
   "outputs": [
    {
     "data": {
      "text/plain": [
       "True"
      ]
     },
     "execution_count": 17,
     "metadata": {},
     "output_type": "execute_result"
    }
   ],
   "source": [
    "import cv2\n",
    "import numpy as np\n",
    "\n",
    "# read image\n",
    "img = cv2.imread('23.jpg')\n",
    "old_image_height, old_image_width, channels = img.shape\n",
    "\n",
    "# create new image of desired size and color (blue) for padding\n",
    "new_image_width = max(old_image_height, old_image_width)\n",
    "new_image_height = max(old_image_height, old_image_width)\n",
    "color = (255,0,0)\n",
    "result = np.full((new_image_height,new_image_width, channels), color, dtype=np.uint8)\n",
    "\n",
    "# compute center offset\n",
    "x_center = (new_image_width - old_image_width) // 2\n",
    "y_center = (new_image_height - old_image_height) // 2\n",
    "\n",
    "# copy img image into center of result image\n",
    "result[y_center:y_center+old_image_height, x_center:x_center+old_image_width] = img\n",
    "\n",
    "# view result\n",
    "cv2.destroyAllWindows()\n",
    "\n",
    "# save result\n",
    "cv2.imwrite(\"ehi.png\", result)"
   ]
  },
  {
   "cell_type": "code",
   "execution_count": null,
   "id": "a8fd0342",
   "metadata": {},
   "outputs": [],
   "source": []
  }
 ],
 "metadata": {
  "kernelspec": {
   "display_name": "Python 3 (ipykernel)",
   "language": "python",
   "name": "python3"
  },
  "language_info": {
   "codemirror_mode": {
    "name": "ipython",
    "version": 3
   },
   "file_extension": ".py",
   "mimetype": "text/x-python",
   "name": "python",
   "nbconvert_exporter": "python",
   "pygments_lexer": "ipython3",
   "version": "3.9.9"
  }
 },
 "nbformat": 4,
 "nbformat_minor": 5
}
