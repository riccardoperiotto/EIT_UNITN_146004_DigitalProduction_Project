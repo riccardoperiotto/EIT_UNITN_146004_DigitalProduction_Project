{
 "cells": [
  {
   "cell_type": "code",
   "execution_count": 15,
   "id": "89996ccc",
   "metadata": {},
   "outputs": [],
   "source": [
    "import cv2\n",
    "import numpy as np"
   ]
  },
  {
   "cell_type": "code",
   "execution_count": 16,
   "id": "da4367e9",
   "metadata": {},
   "outputs": [
    {
     "data": {
      "text/plain": [
       "array([[255, 255, 255, ..., 255, 255, 255],\n",
       "       [255, 255, 255, ..., 255, 255, 255],\n",
       "       [255, 255, 255, ..., 255, 255, 255],\n",
       "       ...,\n",
       "       [255, 255, 255, ..., 255, 255, 255],\n",
       "       [255, 255, 255, ..., 255, 255, 255],\n",
       "       [255, 255, 255, ..., 255, 255, 255]], dtype=uint8)"
      ]
     },
     "execution_count": 16,
     "metadata": {},
     "output_type": "execute_result"
    }
   ],
   "source": [
    "## (1) Read\n",
    "img = cv2.imread(\"5.png\")\n",
    "gray = cv2.cvtColor(img, cv2.COLOR_BGR2GRAY)\n",
    "gray"
   ]
  },
  {
   "cell_type": "code",
   "execution_count": 17,
   "id": "f884578c",
   "metadata": {},
   "outputs": [
    {
     "data": {
      "text/plain": [
       "array([[0, 0, 0, ..., 0, 0, 0],\n",
       "       [0, 0, 0, ..., 0, 0, 0],\n",
       "       [0, 0, 0, ..., 0, 0, 0],\n",
       "       ...,\n",
       "       [0, 0, 0, ..., 0, 0, 0],\n",
       "       [0, 0, 0, ..., 0, 0, 0],\n",
       "       [0, 0, 0, ..., 0, 0, 0]], dtype=uint8)"
      ]
     },
     "execution_count": 17,
     "metadata": {},
     "output_type": "execute_result"
    }
   ],
   "source": [
    "## (2) Threshold\n",
    "th, threshed = cv2.threshold(gray, 30, 255, cv2.THRESH_BINARY_INV|cv2.THRESH_OTSU)\n",
    "th\n",
    "threshed"
   ]
  },
  {
   "cell_type": "code",
   "execution_count": 18,
   "id": "5e999a02",
   "metadata": {},
   "outputs": [],
   "source": [
    "## (3) Find the min-area contour\n",
    "contours, hierarchy = cv2.findContours(threshed, cv2.RETR_TREE, cv2.CHAIN_APPROX_SIMPLE)\n",
    "contours = sorted(contours, key=cv2.contourArea)\n"
   ]
  },
  {
   "cell_type": "code",
   "execution_count": 19,
   "id": "49f41413",
   "metadata": {},
   "outputs": [],
   "source": [
    "#hierarchy"
   ]
  },
  {
   "cell_type": "code",
   "execution_count": 20,
   "id": "04f46c3b",
   "metadata": {},
   "outputs": [],
   "source": [
    "#contours"
   ]
  },
  {
   "cell_type": "code",
   "execution_count": 21,
   "id": "88ebc175",
   "metadata": {},
   "outputs": [
    {
     "name": "stdout",
     "output_type": "stream",
     "text": [
      "qua(697, 911)\n",
      "qua(697, 911)\n",
      "qua(697, 911)\n",
      "qua(697, 911)\n",
      "qua(697, 911)\n",
      "qua(697, 911)\n"
     ]
    }
   ],
   "source": [
    "for i, cnt in enumerate(contours):\n",
    "    if cv2.contourArea(cnt) > 20:\n",
    "        img_contours = np.zeros(img.shape)\n",
    "        \n",
    "        # pointless for the objective\n",
    "        # (4) draw the contours on the empty image\n",
    "        # cv2.drawContours(img_contours, cnt, -1, (0, 255, 0), 3)\n",
    "        # cv2.imshow(str(cv2.contourArea(cnt)), img_contours)\n",
    "        \n",
    "        ## (5) Create mask and do bitwise-op\n",
    "        mask = np.zeros(img.shape[:2],np.uint8)\n",
    "        cv2.drawContours(mask, [cnt],-1, 255, -1)\n",
    "        dst = cv2.bitwise_and(img, img, mask=mask)\n",
    "        \n",
    "        ## (6) Choose the background color (black as default but here is transparent) and save it\n",
    "        alpha = cv2.cvtColor(dst, cv2.COLOR_BGR2GRAY)\n",
    "        _,alpha = cv2.threshold(alpha,0,255,cv2.THRESH_BINARY)\n",
    "        b, g, r = cv2.split(dst)\n",
    "        rgba = [b,g,r, alpha]\n",
    "        dst = cv2.merge(rgba,4)\n",
    "        cv2.imwrite(\"dst\"+str(i)+\".png\", dst)\n",
    "        "
   ]
  },
  {
   "cell_type": "code",
   "execution_count": null,
   "id": "93f068b2",
   "metadata": {},
   "outputs": [],
   "source": []
  },
  {
   "cell_type": "code",
   "execution_count": null,
   "id": "baf0175d",
   "metadata": {},
   "outputs": [],
   "source": []
  },
  {
   "cell_type": "code",
   "execution_count": null,
   "id": "f702d89f",
   "metadata": {},
   "outputs": [],
   "source": []
  },
  {
   "cell_type": "code",
   "execution_count": null,
   "id": "ddf02b62",
   "metadata": {},
   "outputs": [],
   "source": []
  },
  {
   "cell_type": "code",
   "execution_count": null,
   "id": "5c78ce61",
   "metadata": {},
   "outputs": [],
   "source": []
  },
  {
   "cell_type": "code",
   "execution_count": null,
   "id": "f4a4b678",
   "metadata": {},
   "outputs": [],
   "source": []
  },
  {
   "cell_type": "code",
   "execution_count": null,
   "id": "ad7afd71",
   "metadata": {},
   "outputs": [],
   "source": []
  },
  {
   "cell_type": "code",
   "execution_count": null,
   "id": "8498599e",
   "metadata": {},
   "outputs": [],
   "source": []
  },
  {
   "cell_type": "code",
   "execution_count": null,
   "id": "f27c4442",
   "metadata": {},
   "outputs": [],
   "source": []
  },
  {
   "cell_type": "code",
   "execution_count": null,
   "id": "10dc59e3",
   "metadata": {},
   "outputs": [],
   "source": []
  },
  {
   "cell_type": "code",
   "execution_count": null,
   "id": "3655340a",
   "metadata": {},
   "outputs": [],
   "source": []
  },
  {
   "cell_type": "code",
   "execution_count": null,
   "id": "cf33d92d",
   "metadata": {},
   "outputs": [],
   "source": []
  },
  {
   "cell_type": "code",
   "execution_count": null,
   "id": "cf06aa7e",
   "metadata": {},
   "outputs": [],
   "source": []
  },
  {
   "cell_type": "code",
   "execution_count": null,
   "id": "a79d4259",
   "metadata": {},
   "outputs": [],
   "source": []
  },
  {
   "cell_type": "code",
   "execution_count": null,
   "id": "65689621",
   "metadata": {},
   "outputs": [],
   "source": []
  },
  {
   "cell_type": "code",
   "execution_count": null,
   "id": "624eed25",
   "metadata": {},
   "outputs": [],
   "source": []
  },
  {
   "cell_type": "code",
   "execution_count": null,
   "id": "9c82330c",
   "metadata": {},
   "outputs": [],
   "source": []
  },
  {
   "cell_type": "code",
   "execution_count": null,
   "id": "db33eb18",
   "metadata": {},
   "outputs": [],
   "source": []
  },
  {
   "cell_type": "code",
   "execution_count": null,
   "id": "58909c2a",
   "metadata": {},
   "outputs": [],
   "source": []
  }
 ],
 "metadata": {
  "kernelspec": {
   "display_name": "Python 3 (ipykernel)",
   "language": "python",
   "name": "python3"
  },
  "language_info": {
   "codemirror_mode": {
    "name": "ipython",
    "version": 3
   },
   "file_extension": ".py",
   "mimetype": "text/x-python",
   "name": "python",
   "nbconvert_exporter": "python",
   "pygments_lexer": "ipython3",
   "version": "3.9.9"
  }
 },
 "nbformat": 4,
 "nbformat_minor": 5
}
