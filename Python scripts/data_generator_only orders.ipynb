{
 "cells": [
  {
   "cell_type": "code",
   "execution_count": 1,
   "id": "3e673b19",
   "metadata": {},
   "outputs": [],
   "source": [
    "import csv\n",
    "import random\n",
    "\n",
    "# open the file in the write mode\n",
    "file = open('input_trial.csv', 'w')\n",
    "\n",
    "columns=[\"ID_order\", \"Release_time(sec)\", \"Order_provenience\", \"Order_dimension\",\"Order_value\"]\n",
    "order_proveniences = [\"car\", \"person\"]\n",
    "menu_types = [\"meat\", \"veggy\", \"chicken\"]\n",
    "\n",
    "current_time = 0\n",
    "\n",
    "file.write(\";\".join(columns)+\"\\n\")\n",
    "\n",
    "for i in range(100):\n",
    "    order_id = 1000+i\n",
    "    current_time = current_time+random.randint(30, 180)\n",
    "    order_provenience = \"person\"\n",
    "    order_dim = random.randint(1,5)\n",
    "    order_value = order_dim*random.randint(3,10)\n",
    "    file.write(str(order_id)+\";\"+str(current_time)+\";\"+str(order_provenience)+\";\"+str(order_dim)+\";\"+str(order_value)+\"\\n\")\n",
    "\n",
    "file.close()\n",
    "\n",
    "\n",
    "\n",
    "\n",
    "\n",
    "\n",
    "\n",
    "\n",
    "\n",
    "\n",
    "\n",
    "\n",
    "\n",
    "\n",
    "\n",
    "\n",
    "\n",
    "\n",
    "\n",
    "\n",
    "\n",
    "\n",
    "\n"
   ]
  },
  {
   "cell_type": "code",
   "execution_count": null,
   "id": "f8019745",
   "metadata": {},
   "outputs": [],
   "source": []
  }
 ],
 "metadata": {
  "kernelspec": {
   "display_name": "Python 3 (ipykernel)",
   "language": "python",
   "name": "python3"
  },
  "language_info": {
   "codemirror_mode": {
    "name": "ipython",
    "version": 3
   },
   "file_extension": ".py",
   "mimetype": "text/x-python",
   "name": "python",
   "nbconvert_exporter": "python",
   "pygments_lexer": "ipython3",
   "version": "3.9.10"
  }
 },
 "nbformat": 4,
 "nbformat_minor": 5
}
